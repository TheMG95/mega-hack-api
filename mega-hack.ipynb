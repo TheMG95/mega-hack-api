{
 "cells": [
  {
   "cell_type": "markdown",
   "metadata": {},
   "source": [
    "# Table of Contents\n",
    "* [Introduction](#Introduction)\n",
    "  * [Setup](#Setup)\n",
    "* [Mega Hack v7/v7.1](#Mega-Hack-v7/v7.1)\n",
    "  * [Authentication](#Authentication)\n",
    "      * [Login](#Login)\n",
    "      * [Logout](#Logout)\n",
    "      * [Logout of all devices](#Logout-of-all-devices)\n",
    "  * [Installation](#Installation)\n",
    "* [Mega Hack v6](#Mega-Hack-v6)\n",
    "* [Other Stuff](#Other-Stuff)\n",
    "  * [Easter Eggs](#Easter-Eggs)\n"
   ]
  },
  {
   "cell_type": "markdown",
   "metadata": {},
   "source": [
    "# Introduction\n",
    "So I was bored and decided to \"reverse engineer\" Mega Hack's API.\\\n",
    "You can view an interactive version [here](https://colab.research.google.com/drive/1EYTyw3WftwFWCV-mZmcL17upF7SfmZea?usp=sharing). "
   ]
  },
  {
   "cell_type": "markdown",
   "metadata": {},
   "source": [
    "## Setup\n",
    "The httpx library is used for interactive demonstration\\\n",
    "Every url in this document will have `https://absolllute.com/api/mega_hack` appended to its start."
   ]
  },
  {
   "cell_type": "code",
   "execution_count": 0,
   "metadata": {},
   "outputs": [],
   "source": [
    "# Install HTTPX from pip\n",
    "import os\n",
    "os.system(\"pip install httpx\")"
   ]
  },
  {
   "cell_type": "code",
   "execution_count": 0,
   "metadata": {},
   "outputs": [],
   "source": [
    "import httpx\n",
    "\n",
    "client = httpx.Client(base_url=\"https://absolllute.com/api/mega_hack\")"
   ]
  },
  {
   "cell_type": "markdown",
   "metadata": {},
   "source": [
    "# Mega Hack v7/v7.1\n",
    "This section is only for v7 and v7.1 because v6 does almost EVERYTHING differently"
   ]
  },
  {
   "cell_type": "markdown",
   "metadata": {},
   "source": [
    "## Authentication"
   ]
  },
  {
   "cell_type": "markdown",
   "metadata": {},
   "source": [
    "#### Login\n",
    "'i' is used to identify a device and needs to be exactly 64 characters long\\\n",
    "I don't know what 'data' does in the response"
   ]
  },
  {
   "cell_type": "code",
   "execution_count": 0,
   "metadata": {},
   "outputs": [
    {
     "name": "stdout",
     "output_type": "stream",
     "text": [
      "{'data': 'JWmhTvO5uqkgLnGrwAB7qlzKVx4PKMIXUnAexwYaJT7JlI8rZi9zJ/Xs1GXjb5VZOWm8+Uz5hEAY37qz5yWi6tKKlIwuGywW0jry4jJnUMsQomUutYErNwfEVKmzXx7XB8v+3e6nebFLhKjUU6eKzqrCap5wmgmhUguSaLZWXWZdXq7Ht1KvnTSAKix+SzvF6KHRo0/xP10y6oOfVZ/MaAjvrVy/g+9I4m8j2h1ANbo6g3oV65JtvGaGhsmfGrYkAxNnTDFvAYQXArghcET5D/Kz1paCBVF5cV2mKBKpH7JDiuKXD9SfsqJyKBnblyL72k57ZXrqjuDh3gyorUtRZw==', 'token': 'TRVFY8M65DH48A0O0B7R3M9TXABZYQST'} 200\n"
     ]
    }
   ],
   "source": [
    "r = client.post(\"/smvl\", data={\n",
    "    \"e\": \"yourname@example.com\",\n",
    "    \"i\": \"f59o9j7ad2276b4e53be0106c6h4ecabe0cc46d734aa9809654877047e8a3162\",\n",
    "    \"p\": \"password\"\n",
    "})\n",
    "print(r.json(), r.status_code)"
   ]
  },
  {
   "cell_type": "markdown",
   "metadata": {},
   "source": [
    "#### Logout\n",
    "You need to put the 'token' from the login response in 't'\\\n",
    "The server does not check if the token is valid and will always respond with a 200 status code."
   ]
  },
  {
   "cell_type": "code",
   "execution_count": 0,
   "metadata": {
    "scrolled": true
   },
   "outputs": [
    {
     "name": "stdout",
     "output_type": "stream",
     "text": [
      " 200\n"
     ]
    }
   ],
   "source": [
    "r = client.post(\"/slogout\", data={\n",
    "    \"t\": \"TRVFY8M65DH48A0O0B7R3M9TXABZYQST\"\n",
    "})\n",
    "print(r.text, r.status_code)"
   ]
  },
  {
   "cell_type": "markdown",
   "metadata": {},
   "source": [
    "#### Logout of all devices\n",
    "Self-explanatory"
   ]
  },
  {
   "cell_type": "code",
   "execution_count": 0,
   "metadata": {
    "scrolled": true
   },
   "outputs": [
    {
     "name": "stdout",
     "output_type": "stream",
     "text": [
      "{'msg': 'Successfully logged-out all devices!'} 200\n"
     ]
    }
   ],
   "source": [
    "r = client.post(\"/sdeauth\", data={\n",
    "    \"e\": \"yourname@example.com\",\n",
    "    \"p\": \"password\"\n",
    "})\n",
    "print(r.json(), r.status_code)"
   ]
  },
  {
   "cell_type": "markdown",
   "metadata": {},
   "source": [
    "## Installation\n",
    "The installer first gets a JSON file that has the download links for the files and where to put them.\\\n",
    "For stable, the url is `/v7/install/meta.json`\\\n",
    "For the beta, it is `/v7/beta/install/meta.json` (Currently unavailable)\n",
    "\n",
    "The current stable meta.json looks like this:\n",
    "```json\n",
    "{\n",
    " \"version\": \"v7.1-beta7\", // Yes, it says \"beta\" even though it is the stable version.\n",
    " \"folders\": {\n",
    "  \".\": {\n",
    "   \"discord_game_sdk.dll\": \"d8e7d9feb3de8482b186ae44fd1c9abb41fe2b3b3d2c7cd3a4d742ebbad30cdf\",\n",
    "   \"hackpro.dll\": \"ba62e10b576e01545abb08921283f1e5752d5eb4874323be7d966bf021f4cdec\",\n",
    "   \"hackproldr.dll\": \"0adacf0943963001621dd5609042f1752156f305f84f91371c4e389440bd7d22\",\n",
    "   \"XInput9_1_0.dll\": \"58879d33de3b941768f59ae7b0f7d8b76a5f0f0498a2a283d11781b4e8ec0313\"\n",
    "  }\n",
    " }\n",
    "}\n",
    "```\n",
    "*Note: I have not yet figured out what the values of the file names are, they may be checksums but I have not found an algorithm that works.*\n",
    "\n",
    "After this, the installer just downloads these files in order with this url:\\\n",
    "`/v7/install/download`\\\n",
    "This url takes the following query parameters:\n",
    "* s: I have not yet figured out what this is, it looks like the token but it is not. I have tried many tokens and even after all this, only a 32 character string worked for me and I don't know where it came from and it didn't even stop working after I logged out of all devices.\n",
    "* f: This is the file name relative to the current folder. For example, `hackpro.dll` would be `./hackpro.dll`.\n",
    "\n",
    "**Example URL**:\\\n",
    "`/v7/install/download?s=31URB74TOFINVBFRLGKDMBXVUG0TUKFS&f=./hackpro.dll`"
   ]
  },
  {
   "cell_type": "markdown",
   "metadata": {},
   "source": [
    "# Mega Hack v6\n",
    "This section is for v6 and its sub-versions.\n",
    "*WIP*"
   ]
  },
  {
   "cell_type": "markdown",
   "metadata": {},
   "source": [
    "# Other Stuff"
   ]
  },
  {
   "cell_type": "markdown",
   "metadata": {},
   "source": [
    "## Easter Eggs\n",
    "There are 2 easter eggs that I found:\n",
    "* In `https://absolllute.com/api/mega_hack/`, the server responds with `how u doin`\n",
    "* In `https://absolllute.com/api/`, the server responds with `mind ya business` (it seems like Absolute doesn't like people messing with his API)"
   ]
  }
 ],
 "metadata": {
  "kernelspec": {
   "display_name": "Python 3 (ipykernel)",
   "language": "python",
   "name": "python3"
  },
  "language_info": {
   "codemirror_mode": {
    "name": "ipython",
    "version": 3
   },
   "file_extension": ".py",
   "mimetype": "text/x-python",
   "name": "python",
   "nbconvert_exporter": "python",
   "pygments_lexer": "ipython3",
   "version": "3.11.1"
  }
 },
 "nbformat": 4,
 "nbformat_minor": 1
}
